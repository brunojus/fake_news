{
 "cells": [
  {
   "cell_type": "markdown",
   "metadata": {},
   "source": [
    "<center><h2 style=\"color: #004d40 \">TextBlob</h2></center>"
   ]
  },
  {
   "cell_type": "markdown",
   "metadata": {},
   "source": [
    "<strong>Importando a Biblioteca</strong>"
   ]
  },
  {
   "cell_type": "code",
   "execution_count": 1,
   "metadata": {},
   "outputs": [],
   "source": [
    "from textblob import TextBlob\n",
    "import pandas as pd"
   ]
  },
  {
   "cell_type": "markdown",
   "metadata": {},
   "source": [
    "<strong>Trabalhando com uma sentença de exemplo</strong>"
   ]
  },
  {
   "cell_type": "code",
   "execution_count": 2,
   "metadata": {},
   "outputs": [],
   "source": [
    "frase = TextBlob(\"Eleicoes no Brasil causa tumulto e serão anuladas\")"
   ]
  },
  {
   "cell_type": "code",
   "execution_count": 3,
   "metadata": {},
   "outputs": [
    {
     "data": {
      "text/plain": [
       "textblob.blob.TextBlob"
      ]
     },
     "execution_count": 3,
     "metadata": {},
     "output_type": "execute_result"
    }
   ],
   "source": [
    "type(frase)"
   ]
  },
  {
   "cell_type": "markdown",
   "metadata": {},
   "source": [
    "<strong>Tokens</strong>"
   ]
  },
  {
   "cell_type": "code",
   "execution_count": 4,
   "metadata": {},
   "outputs": [
    {
     "data": {
      "text/plain": [
       "WordList(['Eleicoes', 'no', 'Brasil', 'causa', 'tumulto', 'e', 'serão', 'anuladas'])"
      ]
     },
     "execution_count": 4,
     "metadata": {},
     "output_type": "execute_result"
    }
   ],
   "source": [
    "frase.tokens"
   ]
  },
  {
   "cell_type": "markdown",
   "metadata": {},
   "source": [
    "<strong>Tokenização e Sentenças</strong>"
   ]
  },
  {
   "cell_type": "code",
   "execution_count": 5,
   "metadata": {},
   "outputs": [],
   "source": [
    "sentencas = TextBlob(\"O Capitão América aparece sobrevoando São Paulo e diz que irá se candidatar. \"\n",
    "                     \"A polarização da população gera guerra civil.\"\n",
    "                     \"O Chaves se pronuncia e diz está indignado com tanta mentira.\")"
   ]
  },
  {
   "cell_type": "markdown",
   "metadata": {},
   "source": [
    "<strong>Sentenças</strong>"
   ]
  },
  {
   "cell_type": "code",
   "execution_count": 6,
   "metadata": {},
   "outputs": [
    {
     "name": "stdout",
     "output_type": "stream",
     "text": [
      "O Capitão América aparece sobrevoando São Paulo e diz que irá se candidatar.\n",
      "A polarização da população gera guerra civil.O Chaves se pronuncia e diz está indignado com tanta mentira.\n"
     ]
    }
   ],
   "source": [
    "for i in sentencas.sentences:\n",
    "    print (i)"
   ]
  },
  {
   "cell_type": "markdown",
   "metadata": {},
   "source": [
    "<strong>Tradução de Sentenças</strong>"
   ]
  },
  {
   "cell_type": "code",
   "execution_count": 7,
   "metadata": {},
   "outputs": [
    {
     "data": {
      "text/plain": [
       "TextBlob(\"The captain of america appears flying over São Paulo and says he will apply\")"
      ]
     },
     "execution_count": 7,
     "metadata": {},
     "output_type": "execute_result"
    }
   ],
   "source": [
    "frase_ingles = TextBlob(u'O capitão américa aparece sobrevoando São Paulo e diz que irá se candidatar')\n",
    "frase_ingles.translate(from_lang='pt', to='en')"
   ]
  },
  {
   "cell_type": "code",
   "execution_count": 8,
   "metadata": {},
   "outputs": [
    {
     "data": {
      "text/plain": [
       "TextBlob(\"The polarization of the population generates civil war\")"
      ]
     },
     "execution_count": 8,
     "metadata": {},
     "output_type": "execute_result"
    }
   ],
   "source": [
    "frase_ingles = TextBlob(u'A polarização da população gera guerra civil')\n",
    "frase_ingles.translate(from_lang='pt', to='en')"
   ]
  },
  {
   "cell_type": "code",
   "execution_count": 9,
   "metadata": {},
   "outputs": [
    {
     "data": {
      "text/plain": [
       "TextBlob(\"The Chaves pronounces himself and says he is outraged by such a lie.\")"
      ]
     },
     "execution_count": 9,
     "metadata": {},
     "output_type": "execute_result"
    }
   ],
   "source": [
    "frase_ingles = TextBlob(u'O Chaves se pronuncia e diz está indignado com tanta mentira.')\n",
    "frase_ingles.translate(from_lang='pt', to='en')"
   ]
  },
  {
   "cell_type": "markdown",
   "metadata": {},
   "source": [
    "<strong>Classificando textos</strong>"
   ]
  },
  {
   "cell_type": "code",
   "execution_count": 10,
   "metadata": {},
   "outputs": [],
   "source": [
    "news = pd.read_csv('news.csv', sep=';', header=None)"
   ]
  },
  {
   "cell_type": "code",
   "execution_count": 11,
   "metadata": {},
   "outputs": [
    {
     "data": {
      "text/plain": [
       "array([['O capitão américa aparece sobrevoando São Paulo e diz que irá se candidatar',\n",
       "        'verdadeiro'],\n",
       "       ['A polarização da população gera guerra civil', 'fake_news'],\n",
       "       ['O Chaves se pronuncia e diz está indignado com tanta mentira.',\n",
       "        'verdadeiro'],\n",
       "       ['Morte do precidenciavel X por acidente de aviao', 'verdadeiro'],\n",
       "       ['Monumento de Brasilia é atacado por manifestantes e eleicoes seráo canceladas',\n",
       "        'fake_news'],\n",
       "       ['Novo presidente se diz confiante para governar o pais',\n",
       "        'verdadeiro'],\n",
       "       ['Jair Bolsonaro sobe no ranking de rejeicao no nordeste',\n",
       "        'verdadeiro'],\n",
       "       ['Haddad melhora nas pesquisas apos apoio de Lula', 'verdadeiro'],\n",
       "       ['Disputa no segundo turno está cada vez mais acirrada entre os extremos',\n",
       "        'verdadeiro'],\n",
       "       ['Amoedo declara apoio ao PT', 'fake_news'],\n",
       "       ['Manifestantes em Sao Paulo param avenida pedem intervençao militar!',\n",
       "        'fake_news'],\n",
       "       ['Padre Marcelo Rossi diz que irá se candidatar a presidencia',\n",
       "        'fake_news'],\n",
       "       ['Ex presidente Lula consegue habeas Corpus e pode ser candidato',\n",
       "        'fake_news'],\n",
       "       ['Presidente temmer declara apoio ao partido NOVO', 'fake_news'],\n",
       "       ['Mourao declara que é contra o 13 salario e adiantamento de férias de funcionários',\n",
       "        'verdadeiro']], dtype=object)"
      ]
     },
     "execution_count": 11,
     "metadata": {},
     "output_type": "execute_result"
    }
   ],
   "source": [
    "news.values"
   ]
  },
  {
   "cell_type": "code",
   "execution_count": 12,
   "metadata": {},
   "outputs": [],
   "source": [
    "from textblob.classifiers import NaiveBayesClassifier\n",
    "clf = NaiveBayesClassifier(news.values, format=\"csv\")"
   ]
  },
  {
   "cell_type": "code",
   "execution_count": 13,
   "metadata": {},
   "outputs": [
    {
     "data": {
      "text/plain": [
       "'fake_news'"
      ]
     },
     "execution_count": 13,
     "metadata": {},
     "output_type": "execute_result"
    }
   ],
   "source": [
    "clf.classify('Presidente Temmer declara apoio a candidato do PSDB')"
   ]
  },
  {
   "cell_type": "code",
   "execution_count": 14,
   "metadata": {},
   "outputs": [
    {
     "data": {
      "text/plain": [
       "'verdadeiro'"
      ]
     },
     "execution_count": 14,
     "metadata": {},
     "output_type": "execute_result"
    }
   ],
   "source": [
    "clf.classify('Disputa entre presidenciais sera mesmo no segundo turno')"
   ]
  },
  {
   "cell_type": "markdown",
   "metadata": {},
   "source": [
    "<strong>Distribuicao das Probabilidades</strong>"
   ]
  },
  {
   "cell_type": "code",
   "execution_count": 15,
   "metadata": {},
   "outputs": [],
   "source": [
    "dist_prob = clf.prob_classify('Padre Marcelo Rossi se pronuncia e diz que irá se candidatar')"
   ]
  },
  {
   "cell_type": "code",
   "execution_count": 16,
   "metadata": {},
   "outputs": [
    {
     "data": {
      "text/plain": [
       "0.8336538270304833"
      ]
     },
     "execution_count": 16,
     "metadata": {},
     "output_type": "execute_result"
    }
   ],
   "source": [
    "dist_prob.prob('fake_news')"
   ]
  },
  {
   "cell_type": "code",
   "execution_count": 17,
   "metadata": {},
   "outputs": [
    {
     "data": {
      "text/plain": [
       "0.1663461729695183"
      ]
     },
     "execution_count": 17,
     "metadata": {},
     "output_type": "execute_result"
    }
   ],
   "source": [
    "dist_prob.prob('verdadeiro')"
   ]
  },
  {
   "cell_type": "code",
   "execution_count": 19,
   "metadata": {},
   "outputs": [
    {
     "data": {
      "text/plain": [
       "'fake_news'"
      ]
     },
     "execution_count": 19,
     "metadata": {},
     "output_type": "execute_result"
    }
   ],
   "source": [
    "dist_prob.max()"
   ]
  },
  {
   "cell_type": "markdown",
   "metadata": {},
   "source": [
    "<strong>Avaliando o Classificador</strong>"
   ]
  },
  {
   "cell_type": "code",
   "execution_count": 20,
   "metadata": {},
   "outputs": [],
   "source": [
    "validacao = [\n",
    "     ('O governo temmer propoe reforma trabalhista', 'verdadeiro'),\n",
    "     ('Capitão america é visto em campanha eleitoral do partido NOVO', 'fake_news'),\n",
    "     (\"Lula é solto essa madrugada\", 'fake_news'),\n",
    "     (\"Jair Bolsonaro melhora nas pesquisas após atentado.\", 'verdadeiro')\n",
    "]"
   ]
  },
  {
   "cell_type": "markdown",
   "metadata": {},
   "source": [
    "<strong>Acurácia</strong>"
   ]
  },
  {
   "cell_type": "code",
   "execution_count": 21,
   "metadata": {},
   "outputs": [
    {
     "data": {
      "text/plain": [
       "0.75"
      ]
     },
     "execution_count": 21,
     "metadata": {},
     "output_type": "execute_result"
    }
   ],
   "source": [
    "clf.accuracy(validacao)"
   ]
  },
  {
   "cell_type": "code",
   "execution_count": 22,
   "metadata": {},
   "outputs": [
    {
     "name": "stdout",
     "output_type": "stream",
     "text": [
      "O governo temmer propoe reforma trabalhista fake_news\n",
      "Capitão america é visto em campanha eleitoral do partido NOVO fake_news\n",
      "Lula é solto essa madrugada fake_news\n",
      "Jair Bolsonaro melhora nas pesquisas após atentado. verdadeiro\n"
     ]
    }
   ],
   "source": [
    "for i in validacao:\n",
    "    print (i[0], clf.classify(i[0]))"
   ]
  },
  {
   "cell_type": "markdown",
   "metadata": {},
   "source": [
    "<strong>Features Mais informativas</strong>"
   ]
  },
  {
   "cell_type": "code",
   "execution_count": 23,
   "metadata": {},
   "outputs": [
    {
     "name": "stdout",
     "output_type": "stream",
     "text": [
      "Most Informative Features\n",
      "            contains(de) = True           verdad : fake_n =      2.7 : 1.0\n",
      "           contains(diz) = True           verdad : fake_n =      2.1 : 1.0\n",
      "            contains(se) = True           verdad : fake_n =      2.1 : 1.0\n",
      "         contains(apoio) = True           fake_n : verdad =      1.9 : 1.0\n",
      "       contains(declara) = True           fake_n : verdad =      1.9 : 1.0\n",
      "            contains(de) = False          fake_n : verdad =      1.6 : 1.0\n",
      "           contains(que) = True           verdad : fake_n =      1.5 : 1.0\n",
      "            contains(ao) = False          verdad : fake_n =      1.4 : 1.0\n",
      "            contains(se) = False          fake_n : verdad =      1.3 : 1.0\n",
      "           contains(diz) = False          fake_n : verdad =      1.3 : 1.0\n"
     ]
    }
   ],
   "source": [
    "clf.show_informative_features()"
   ]
  },
  {
   "cell_type": "code",
   "execution_count": null,
   "metadata": {},
   "outputs": [],
   "source": []
  }
 ],
 "metadata": {
  "kernelspec": {
   "display_name": "Python 3",
   "language": "python",
   "name": "python3"
  },
  "language_info": {
   "codemirror_mode": {
    "name": "ipython",
    "version": 3
   },
   "file_extension": ".py",
   "mimetype": "text/x-python",
   "name": "python",
   "nbconvert_exporter": "python",
   "pygments_lexer": "ipython3",
   "version": "3.6.6"
  }
 },
 "nbformat": 4,
 "nbformat_minor": 2
}
